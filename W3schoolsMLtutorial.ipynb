{
 "cells": [
  {
   "cell_type": "markdown",
   "id": "c1e485d7-1dc9-425c-9bb5-037f7dbe2b3c",
   "metadata": {},
   "source": [
    "<h1>Libraries import</h1>"
   ]
  },
  {
   "cell_type": "code",
   "execution_count": 165,
   "id": "7a7f3722-5b7b-48fc-994b-2695cc92d080",
   "metadata": {},
   "outputs": [],
   "source": [
    "import numpy as np\n",
    "from scipy import stats\n",
    "from sklearn import datasets\n",
    "import matplotlib.pyplot as plt\n",
    "from sklearn import linear_model\n",
    "from sklearn.cluster import KMeans\n",
    "from sklearn.ensemble import BaggingClassifier\n",
    "from sklearn.tree import DecisionTreeClassifier\n",
    "from sklearn.neighbors import KNeighborsClassifier\n",
    "from sklearn.linear_model import LogisticRegression\n",
    "from sklearn.model_selection import ShuffleSplit\n",
    "from sklearn.model_selection import train_test_split, LeaveOneOut, LeavePOut\n",
    "from sklearn.model_selection import KFold, StratifiedKFold, cross_val_score\n",
    "from sklearn.metrics import r2_score, confusion_matrix, ConfusionMatrixDisplay\n",
    "from sklearn.metrics import accuracy_score, precision_score, recall_score, f1_score\n",
    "from sklearn.metrics import roc_auc_score, roc_curve\n",
    "from scipy.cluster.hierarchy import dendrogram, linkage\n",
    "from sklearn.cluster import AgglomerativeClustering\n",
    "from sklearn.preprocessing import StandardScaler"
   ]
  },
  {
   "cell_type": "markdown",
   "id": "8df150ab-5f21-419e-b5a3-6898f7b140a4",
   "metadata": {},
   "source": [
    "<h1>Mean, Median, Mode</h1>"
   ]
  },
  {
   "cell_type": "markdown",
   "id": "00fc7c1b-aeba-48df-a846-a8a2797da87a",
   "metadata": {},
   "source": [
    "* Mean - The average value\n",
    "* Median - The mid point value\n",
    "* Mode - The most common value"
   ]
  },
  {
   "cell_type": "code",
   "execution_count": 2,
   "id": "b6ddc9e7-1c60-42d0-9fdf-db7821af78a0",
   "metadata": {},
   "outputs": [],
   "source": [
    "speed = [99,86,87,88,111,86,103,87,94,78,77,85,86] #dane"
   ]
  },
  {
   "cell_type": "code",
   "execution_count": 5,
   "id": "0cc13afa-4dcc-45bc-9140-c6461497a3c1",
   "metadata": {},
   "outputs": [
    {
     "name": "stdout",
     "output_type": "stream",
     "text": [
      "Mean:  89.76923076923077\n"
     ]
    }
   ],
   "source": [
    "print(\"Mean: \", np.mean(speed))"
   ]
  },
  {
   "cell_type": "code",
   "execution_count": 6,
   "id": "6fd97389-02ac-4485-bf1d-5550f4005b83",
   "metadata": {},
   "outputs": [
    {
     "name": "stdout",
     "output_type": "stream",
     "text": [
      "Median:  87.0\n"
     ]
    }
   ],
   "source": [
    "print(\"Median: \", np.median(speed))"
   ]
  },
  {
   "cell_type": "code",
   "execution_count": 9,
   "id": "b4479caa-8fc9-46eb-9fe2-0f3b279a2eb7",
   "metadata": {},
   "outputs": [
    {
     "name": "stdout",
     "output_type": "stream",
     "text": [
      "Mode ModeResult(mode=86, count=3)\n"
     ]
    }
   ],
   "source": [
    "print(\"Mode\", stats.mode(speed))"
   ]
  },
  {
   "cell_type": "markdown",
   "id": "c9f670fd-66cc-4ad3-8da3-8f6afb8a990f",
   "metadata": {},
   "source": [
    "<h1>Standard deviation, Variance, Percentiles</h1>"
   ]
  },
  {
   "cell_type": "markdown",
   "id": "31b0951c-3109-4f3b-ab3f-685dc192c758",
   "metadata": {},
   "source": [
    "Standard deviation is a number that describes how spread out the values are.\n",
    "<br>A low standard deviation means that most of the numbers are close to the mean (average) value.\n",
    "<br>A high standard deviation means that the values are spread out over a wider range.\n",
    "<br>For example if the mean of dataset is 70 and the standard devition is 37 means most of values are in range 70 ± 37"
   ]
  },
  {
   "cell_type": "code",
   "execution_count": 10,
   "id": "b006d267-709f-4adb-b419-540959cffe62",
   "metadata": {},
   "outputs": [
    {
     "name": "stdout",
     "output_type": "stream",
     "text": [
      "Standard deviation:  9.258292301032677\n"
     ]
    }
   ],
   "source": [
    "print(\"Standard deviation: \", np.std(speed))"
   ]
  },
  {
   "cell_type": "markdown",
   "id": "91f3d234-baa7-4b8f-82c6-5466cc934343",
   "metadata": {},
   "source": [
    "If you take the square root of the variance, you get the standard deviation.\n",
    "<br>To calculate the variance you have to do as follows:\n",
    "1. Find the mean\n",
    "2. For each value: find the difference from the mean.\n",
    "3. For each difference: find the square value.\n",
    "4. The variance is the average number of these squared differences."
   ]
  },
  {
   "cell_type": "code",
   "execution_count": 11,
   "id": "a09bee4f-8f65-4c20-9c84-fbf38fa48809",
   "metadata": {},
   "outputs": [
    {
     "name": "stdout",
     "output_type": "stream",
     "text": [
      "Variance:  85.71597633136093\n"
     ]
    }
   ],
   "source": [
    "print(\"Variance: \", np.var(speed))"
   ]
  },
  {
   "cell_type": "markdown",
   "id": "d42a5f11-51cb-4d38-a36b-0d506e65b72e",
   "metadata": {},
   "source": [
    "Percentiles are used in statistics to give you a number that describes the value that a given percent of the values are lower than."
   ]
  },
  {
   "cell_type": "code",
   "execution_count": 12,
   "id": "137ab1e9-ba29-45b9-8dc7-2ebd91b0d6a3",
   "metadata": {},
   "outputs": [],
   "source": [
    "ages = [5,31,43,48,50,41,7,11,15,39,80,82,32,2,8,6,25,36,27,61,31]"
   ]
  },
  {
   "cell_type": "code",
   "execution_count": 13,
   "id": "3fdd1e32-6a97-4db5-9f8a-fb7b1ff2a204",
   "metadata": {},
   "outputs": [
    {
     "name": "stdout",
     "output_type": "stream",
     "text": [
      "75 percentile:  43.0\n"
     ]
    }
   ],
   "source": [
    "print(\"75 percentile: \", np.percentile(ages, 75))"
   ]
  },
  {
   "cell_type": "markdown",
   "id": "e61dfac6-a204-44ef-9af6-fd9bf41852cd",
   "metadata": {},
   "source": [
    "It means that 75% of the ages are lower or equal to 43."
   ]
  },
  {
   "cell_type": "markdown",
   "id": "67f01db9-86a8-4350-b174-36b974141da8",
   "metadata": {},
   "source": [
    "<h1>Data distribution</h1>"
   ]
  },
  {
   "cell_type": "markdown",
   "id": "23fa1f89-2f4c-4187-b37e-14afc22b03ef",
   "metadata": {},
   "source": [
    "<p style='color:#DB1616'>To create a dataset we can use numpy.random.uniform (or other distributions from numpy or scipy) and reshape to make a multidimentional array instead of 2D.\n",
    "</p>"
   ]
  },
  {
   "cell_type": "code",
   "execution_count": 28,
   "id": "1607f80c-3602-4b93-a461-2607f395be18",
   "metadata": {},
   "outputs": [
    {
     "name": "stdout",
     "output_type": "stream",
     "text": [
      "[2.29119607 2.71600821 3.09959225 4.87961483 3.3481336  4.60842502\n",
      " 0.70418288 3.12449094 1.26227585 0.93640964 4.44191851 2.94710227\n",
      " 0.11488943 4.14402424 2.40352472 4.37885207 0.69937021 0.0719074\n",
      " 0.13684365 0.41895506 3.47274023 1.66187511 0.49544645 3.14310954]\n",
      "[[2.29119607 2.71600821 3.09959225 4.87961483]\n",
      " [3.3481336  4.60842502 0.70418288 3.12449094]\n",
      " [1.26227585 0.93640964 4.44191851 2.94710227]\n",
      " [0.11488943 4.14402424 2.40352472 4.37885207]\n",
      " [0.69937021 0.0719074  0.13684365 0.41895506]\n",
      " [3.47274023 1.66187511 0.49544645 3.14310954]] \n",
      "\n",
      "[[2.29119607 2.71600821 3.09959225 4.87961483 3.3481336  4.60842502]\n",
      " [0.70418288 3.12449094 1.26227585 0.93640964 4.44191851 2.94710227]\n",
      " [0.11488943 4.14402424 2.40352472 4.37885207 0.69937021 0.0719074 ]\n",
      " [0.13684365 0.41895506 3.47274023 1.66187511 0.49544645 3.14310954]] \n",
      "\n",
      "[[[2.29119607 2.71600821 3.09959225]\n",
      "  [4.87961483 3.3481336  4.60842502]]\n",
      "\n",
      " [[0.70418288 3.12449094 1.26227585]\n",
      "  [0.93640964 4.44191851 2.94710227]]\n",
      "\n",
      " [[0.11488943 4.14402424 2.40352472]\n",
      "  [4.37885207 0.69937021 0.0719074 ]]\n",
      "\n",
      " [[0.13684365 0.41895506 3.47274023]\n",
      "  [1.66187511 0.49544645 3.14310954]]] \n",
      "\n",
      "[[[[2.29119607 2.71600821]\n",
      "   [3.09959225 4.87961483]]\n",
      "\n",
      "  [[3.3481336  4.60842502]\n",
      "   [0.70418288 3.12449094]]\n",
      "\n",
      "  [[1.26227585 0.93640964]\n",
      "   [4.44191851 2.94710227]]]\n",
      "\n",
      "\n",
      " [[[0.11488943 4.14402424]\n",
      "   [2.40352472 4.37885207]]\n",
      "\n",
      "  [[0.69937021 0.0719074 ]\n",
      "   [0.13684365 0.41895506]]\n",
      "\n",
      "  [[3.47274023 1.66187511]\n",
      "   [0.49544645 3.14310954]]]] \n",
      "\n"
     ]
    }
   ],
   "source": [
    "x = np.random.uniform(0.0, 5.0, 24)\n",
    "print(x)\n",
    "print(x.reshape(-1,4), \"\\n\")\n",
    "print(x.reshape(4,-1), \"\\n\")\n",
    "print(x.reshape(4,2,-1), \"\\n\")\n",
    "print(x.reshape(2,-1,2,2), \"\\n\")"
   ]
  },
  {
   "cell_type": "markdown",
   "id": "e2f2ab32-8ac0-4dbe-9ac8-81210db175da",
   "metadata": {},
   "source": [
    "To visualize data distribution we can use histogram."
   ]
  },
  {
   "cell_type": "code",
   "execution_count": 44,
   "id": "334b3a59-6128-4a1e-8480-9805af5410b3",
   "metadata": {},
   "outputs": [
    {
     "data": {
      "image/png": "[encoded data removed]",
      "text/plain": [
       "<Figure size 640x480 with 1 Axes>"
      ]
     },
     "metadata": {},
     "output_type": "display_data"
    }
   ],
   "source": [
    "rng = np.random.RandomState(42) #reproducibility\n",
    "x = rng.exponential(scale=2, size=1000) #size = shape of an array\n",
    "plt.hist(x, 20)\n",
    "plt.show()"
   ]
  },
  {
   "cell_type": "markdown",
   "id": "7b773323-cfff-4438-bdd0-bc06c64130a9",
   "metadata": {},
   "source": [
    "<h1>Normal data distribution</h1>"
   ]
  },
  {
   "cell_type": "code",
   "execution_count": 45,
   "id": "347e34e9-5f07-498a-885c-294a6cd0e3bc",
   "metadata": {},
   "outputs": [],
   "source": [
    "rng = np.random.RandomState(42) #reproducibility\n",
    "x = rng.normal(loc=5.0,scale=1.0,size=10000) #loc=mean, scale=deviation"
   ]
  },
  {
   "cell_type": "code",
   "execution_count": 46,
   "id": "59bdda67-5db1-42d2-ab7b-bb47a3d907a9",
   "metadata": {},
   "outputs": [
    {
     "data": {
      "image/png": "[encoded data removed]",
      "text/plain": [
       "<Figure size 640x480 with 1 Axes>"
      ]
     },
     "metadata": {},
     "output_type": "display_data"
    }
   ],
   "source": [
    "plt.hist(x, 100)\n",
    "plt.show()"
   ]
  },
  {
   "cell_type": "markdown",
   "id": "534942ef-1fe6-417e-bfdf-6381ce1538f3",
   "metadata": {},
   "source": [
    "A normal distribution graph is also known as the bell curve because of it's characteristic shape of a bell."
   ]
  },
  {
   "cell_type": "markdown",
   "id": "698f4f3d-ef2d-4180-bb6f-1f1bade7b0f8",
   "metadata": {},
   "source": [
    "<h1>Scatter plot</h1>"
   ]
  },
  {
   "cell_type": "code",
   "execution_count": 49,
   "id": "4e295362-8204-4e26-989e-2ac359aba6da",
   "metadata": {},
   "outputs": [
    {
     "data": {
      "image/png": "[encoded data removed]",
      "text/plain": [
       "<Figure size 640x480 with 1 Axes>"
      ]
     },
     "metadata": {},
     "output_type": "display_data"
    }
   ],
   "source": [
    "x = np.random.normal(5.0, 1.0, 1000)\n",
    "y = np.random.normal(10.0, 2.0, 1000)\n",
    "\n",
    "plt.scatter(x, y)\n",
    "plt.show()"
   ]
  },
  {
   "cell_type": "markdown",
   "id": "a2ff1506-98e5-4c24-bbad-f86b0b92c95d",
   "metadata": {},
   "source": [
    "<h1>R-Squared</h1>"
   ]
  },
  {
   "cell_type": "markdown",
   "id": "e3aafe1d-685f-41cf-91ae-20d7e177b4f4",
   "metadata": {},
   "source": [
    "It is important to know how well the relationship between the values of the x- and y-axis is, if there are no relationship the polynomial regression can not be used to predict anything.\n",
    "<br>The relationship is measured with a value called the r-squared.\n",
    "<br>The r-squared value ranges from 0 to 1, where 0 means no relationship, and 1 means 100% related.\n",
    "<br>Python and the Sklearn module will compute this value for you, all you have to do is feed it with the x and y arrays:"
   ]
  },
  {
   "cell_type": "code",
   "execution_count": 55,
   "id": "ccd01696-ae1f-43e5-9f69-ed21ace1204e",
   "metadata": {},
   "outputs": [
    {
     "data": {
      "image/png": "[encoded data removed]",
      "text/plain": [
       "<Figure size 640x480 with 1 Axes>"
      ]
     },
     "metadata": {},
     "output_type": "display_data"
    },
    {
     "name": "stdout",
     "output_type": "stream",
     "text": [
      "R2:  0.009952707566680652\n"
     ]
    }
   ],
   "source": [
    "x = [89,43,36,36,95,10,66,34,38,20,26,29,48,64,6,5,36,66,72,40]\n",
    "y = [21,46,3,35,67,95,53,72,58,10,26,34,90,33,38,20,56,2,47,15]\n",
    "\n",
    "mymodel = np.poly1d(np.polyfit(x, y, 3))\n",
    "\n",
    "myline = np.linspace(2, 95, 100)\n",
    "\n",
    "plt.scatter(x, y)\n",
    "plt.plot(myline, mymodel(myline))\n",
    "plt.show()\n",
    "\n",
    "print(\"R2: \", r2_score(y, mymodel(x)))"
   ]
  },
  {
   "cell_type": "markdown",
   "id": "9717b4f5-4e66-4ab5-a462-469a0f1b34f6",
   "metadata": {},
   "source": [
    "The R2 score is very low."
   ]
  },
  {
   "cell_type": "code",
   "execution_count": 61,
   "id": "0058eb20-884a-4f27-baf6-35b973b4827d",
   "metadata": {},
   "outputs": [
    {
     "data": {
      "image/png": "[encoded data removed]",
      "text/plain": [
       "<Figure size 640x480 with 1 Axes>"
      ]
     },
     "metadata": {},
     "output_type": "display_data"
    },
    {
     "name": "stdout",
     "output_type": "stream",
     "text": [
      "R2:  0.9432150416451026\n"
     ]
    }
   ],
   "source": [
    "x = [1,2,3,5,6,7,8,9,10,12,13,14,15,16,18,19,21,22]\n",
    "y = [100,90,80,60,60,55,60,65,70,70,75,76,78,79,90,99,99,100]\n",
    "\n",
    "mymodel = np.poly1d(np.polyfit(x, y, 3))\n",
    "\n",
    "myline = np.linspace(1, 25, 60)\n",
    "\n",
    "plt.scatter(x, y)\n",
    "plt.plot(myline, mymodel(myline))\n",
    "plt.show()\n",
    "\n",
    "print(\"R2: \", r2_score(y, mymodel(x)))"
   ]
  },
  {
   "cell_type": "markdown",
   "id": "c5ac1850-7327-4e21-b006-758c04b80173",
   "metadata": {},
   "source": [
    "Here the R2 score is high which means the regression is a good representation of data."
   ]
  },
  {
   "cell_type": "markdown",
   "id": "8843aef3-15cc-414d-b696-a427c94725da",
   "metadata": {},
   "source": [
    "<h1>Scale features</h1>"
   ]
  },
  {
   "cell_type": "code",
   "execution_count": 64,
   "id": "7c84ca23-8350-4b64-8abd-bb551f90e9b3",
   "metadata": {},
   "outputs": [],
   "source": [
    "#scale = StandardScaler()\n",
    "\n",
    "#df = pandas.read_csv(\"data.csv\")\n",
    "\n",
    "#X = df[['Weight', 'Volume']]\n",
    "#y = df['CO2']\n",
    "\n",
    "#scaledX = scale.fit_transform(X)\n",
    "\n",
    "#regr = linear_model.LinearRegression()\n",
    "#regr.fit(scaledX, y)\n",
    "\n",
    "#scaled = scale.transform([[2300, 1.3]])\n",
    "\n",
    "#predictedCO2 = regr.predict([scaled[0]])\n",
    "#print(predictedCO2)"
   ]
  },
  {
   "cell_type": "markdown",
   "id": "cd7a54f1-8a49-4702-a717-86763e13e481",
   "metadata": {},
   "source": [
    "<h1>Confusion Matrix</h1>"
   ]
  },
  {
   "cell_type": "markdown",
   "id": "28aa6842-a7de-463e-bd95-f5062aeb2537",
   "metadata": {},
   "source": [
    "It is a table that is used in classification problems to assess where errors in the model were made.The rows represent the actual classes the outcomes should have been. While the columns represent the predictions we have made. Using this table it is easy to see which predictions are wrong."
   ]
  },
  {
   "cell_type": "code",
   "execution_count": 83,
   "id": "4c0d26f3-eb93-4142-a4da-d777f9297b67",
   "metadata": {},
   "outputs": [],
   "source": [
    "rng = np.random.RandomState(42)\n",
    "actual = rng.binomial(1, 0.9, size = 1000)\n",
    "predicted = rng.binomial(1, 0.9, size = 1000)"
   ]
  },
  {
   "cell_type": "code",
   "execution_count": 84,
   "id": "3e4505f5-c3c1-423d-9c58-3eee0f787ae0",
   "metadata": {},
   "outputs": [],
   "source": [
    "confusion_matrix = confusion_matrix(actual, predicted)"
   ]
  },
  {
   "cell_type": "code",
   "execution_count": 85,
   "id": "1dfd0988-30aa-42d2-82a9-7a8432022688",
   "metadata": {},
   "outputs": [
    {
     "data": {
      "image/png": "[encoded data removed]",
      "text/plain": [
       "<Figure size 640x480 with 2 Axes>"
      ]
     },
     "metadata": {},
     "output_type": "display_data"
    }
   ],
   "source": [
    "cm_display = ConfusionMatrixDisplay(confusion_matrix = confusion_matrix, \n",
    "                                    display_labels = [0, 1])\n",
    "cm_display.plot()\n",
    "plt.show()"
   ]
  },
  {
   "cell_type": "markdown",
   "id": "2703b4ba-58b2-40fb-a91c-13324b2f87dc",
   "metadata": {},
   "source": [
    "<h1>Accuracy, Precision, Sensitivity (Recall), Specificity and F-score</h1>"
   ]
  },
  {
   "cell_type": "markdown",
   "id": "7c620b38-4bf9-4ae8-9951-17f9738b5bd9",
   "metadata": {},
   "source": [
    "Acccuracy = (TP + TN)/Total"
   ]
  },
  {
   "cell_type": "code",
   "execution_count": 91,
   "id": "9e82f5da-ee90-4e39-9208-775ca02159f1",
   "metadata": {},
   "outputs": [
    {
     "name": "stdout",
     "output_type": "stream",
     "text": [
      "Accuracy:  0.823\n"
     ]
    }
   ],
   "source": [
    "print(\"Accuracy: \", accuracy_score(actual, predicted))"
   ]
  },
  {
   "cell_type": "markdown",
   "id": "c61d0efc-db65-44a6-860e-b5b9ba0ab408",
   "metadata": {},
   "source": [
    "Precision = TP/(TP + FP)"
   ]
  },
  {
   "cell_type": "code",
   "execution_count": 93,
   "id": "6e1f3c67-e694-407c-976b-9ef59c774532",
   "metadata": {},
   "outputs": [
    {
     "name": "stdout",
     "output_type": "stream",
     "text": [
      "Precision:  0.9003322259136213\n"
     ]
    }
   ],
   "source": [
    "print(\"Precision: \", precision_score(actual, predicted))"
   ]
  },
  {
   "cell_type": "markdown",
   "id": "b7d3c256-9326-4042-b979-e94037ade08b",
   "metadata": {},
   "source": [
    "Sensitivity (Recall) = TP/(TP + FN)"
   ]
  },
  {
   "cell_type": "code",
   "execution_count": 94,
   "id": "0be07533-7ec8-4ecc-9364-1d376842802a",
   "metadata": {},
   "outputs": [
    {
     "name": "stdout",
     "output_type": "stream",
     "text": [
      "Recall:  0.9033333333333333\n"
     ]
    }
   ],
   "source": [
    "print(\"Recall: \", recall_score(actual, predicted))"
   ]
  },
  {
   "cell_type": "markdown",
   "id": "c34986d2-cba3-4670-a6ec-da2ce17dcc06",
   "metadata": {},
   "source": [
    "Specificity = TN/(TN + FP)"
   ]
  },
  {
   "cell_type": "code",
   "execution_count": 95,
   "id": "65df4ba1-76ad-48c2-8d8a-7255153d4ca8",
   "metadata": {},
   "outputs": [
    {
     "name": "stdout",
     "output_type": "stream",
     "text": [
      "Specificity:  0.1\n"
     ]
    }
   ],
   "source": [
    "print(\"Specificity: \", recall_score(actual, predicted, pos_label=0))"
   ]
  },
  {
   "cell_type": "markdown",
   "id": "029883a3-f9ce-4abd-ae8f-4794a002dd23",
   "metadata": {},
   "source": [
    "F-score = 2 * ((Precision * Sensitivity) / (Precision + Sensitivity))"
   ]
  },
  {
   "cell_type": "code",
   "execution_count": 96,
   "id": "75f92ae8-99b8-4e36-8e21-2f59eb8e0c1a",
   "metadata": {},
   "outputs": [
    {
     "name": "stdout",
     "output_type": "stream",
     "text": [
      "F-score:  0.9018302828618968\n"
     ]
    }
   ],
   "source": [
    "print(\"F-score: \", f1_score(actual, predicted))"
   ]
  },
  {
   "cell_type": "markdown",
   "id": "c0842b8b-0212-454b-9c91-317d0b786a0b",
   "metadata": {},
   "source": [
    "<h1>Hierarchical clustering</h1>"
   ]
  },
  {
   "cell_type": "code",
   "execution_count": 98,
   "id": "6d5c5a1f-3cb2-4c1a-bd84-6b1b7014b22b",
   "metadata": {},
   "outputs": [
    {
     "data": {
      "image/png": "[encoded data removed]",
      "text/plain": [
       "<Figure size 640x480 with 1 Axes>"
      ]
     },
     "metadata": {},
     "output_type": "display_data"
    }
   ],
   "source": [
    "x = [4, 5, 10, 4, 3, 11, 14 , 6, 10, 12]\n",
    "y = [21, 19, 24, 17, 16, 25, 24, 22, 21, 21]\n",
    "\n",
    "data = list(zip(x, y))\n",
    "\n",
    "linkage_data = linkage(data, method='ward', metric='euclidean')\n",
    "dendrogram(linkage_data)\n",
    "\n",
    "plt.show()"
   ]
  },
  {
   "cell_type": "code",
   "execution_count": 102,
   "id": "39ff1c08-8cad-4f64-958e-1eb8a9437a6e",
   "metadata": {},
   "outputs": [
    {
     "data": {
      "image/png": "[encoded data removed]",
      "text/plain": [
       "<Figure size 640x480 with 1 Axes>"
      ]
     },
     "metadata": {},
     "output_type": "display_data"
    }
   ],
   "source": [
    "hierarchical_cluster = AgglomerativeClustering(n_clusters=2, metric='euclidean', \n",
    "                                               linkage='ward')\n",
    "labels = hierarchical_cluster.fit_predict(data)\n",
    "\n",
    "plt.scatter(x, y, c=labels)\n",
    "plt.show()"
   ]
  },
  {
   "cell_type": "markdown",
   "id": "05aa9637-f15c-481f-8fa3-141f5d226b9d",
   "metadata": {},
   "source": [
    "<h1>Logistic Regression</h1>"
   ]
  },
  {
   "cell_type": "markdown",
   "id": "14857d33-7df0-4bba-aa27-b22bb89669f2",
   "metadata": {},
   "source": [
    "Logistic regression aims to solve classification problems. It does this by predicting categorical outcomes, unlike linear regression that predicts a continuous outcome.\n",
    "<br>In the simplest case there are two outcomes, which is called binomial, an example of which is predicting if a tumor is malignant or benign. Other cases have more than two outcomes to classify, in this case it is called multinomial. A common example for multinomial logistic regression would be predicting the class of an iris flower between 3 different species."
   ]
  },
  {
   "cell_type": "code",
   "execution_count": 107,
   "id": "129ed3dd-d562-4799-9f8c-e7de48411865",
   "metadata": {},
   "outputs": [
    {
     "data": {
      "text/html": [
       "<style>#sk-container-id-2 {\n",
       "  /* Definition of color scheme common for light and dark mode */\n",
       "  --sklearn-color-text: #000;\n",
       "  --sklearn-color-text-muted: #666;\n",
       "  --sklearn-color-line: gray;\n",
       "  /* Definition of color scheme for unfitted estimators */\n",
       "  --sklearn-color-unfitted-level-0: #fff5e6;\n",
       "  --sklearn-color-unfitted-level-1: #f6e4d2;\n",
       "  --sklearn-color-unfitted-level-2: #ffe0b3;\n",
       "  --sklearn-color-unfitted-level-3: chocolate;\n",
       "  /* Definition of color scheme for fitted estimators */\n",
       "  --sklearn-color-fitted-level-0: #f0f8ff;\n",
       "  --sklearn-color-fitted-level-1: #d4ebff;\n",
       "  --sklearn-color-fitted-level-2: #b3dbfd;\n",
       "  --sklearn-color-fitted-level-3: cornflowerblue;\n",
       "\n",
       "  /* Specific color for light theme */\n",
       "  --sklearn-color-text-on-default-background: var(--sg-text-color, var(--theme-code-foreground, var(--jp-content-font-color1, black)));\n",
       "  --sklearn-color-background: var(--sg-background-color, var(--theme-background, var(--jp-layout-color0, white)));\n",
       "  --sklearn-color-border-box: var(--sg-text-color, var(--theme-code-foreground, var(--jp-content-font-color1, black)));\n",
       "  --sklearn-color-icon: #696969;\n",
       "\n",
       "  @media (prefers-color-scheme: dark) {\n",
       "    /* Redefinition of color scheme for dark theme */\n",
       "    --sklearn-color-text-on-default-background: var(--sg-text-color, var(--theme-code-foreground, var(--jp-content-font-color1, white)));\n",
       "    --sklearn-color-background: var(--sg-background-color, var(--theme-background, var(--jp-layout-color0, #111)));\n",
       "    --sklearn-color-border-box: var(--sg-text-color, var(--theme-code-foreground, var(--jp-content-font-color1, white)));\n",
       "    --sklearn-color-icon: #878787;\n",
       "  }\n",
       "}\n",
       "\n",
       "#sk-container-id-2 {\n",
       "  color: var(--sklearn-color-text);\n",
       "}\n",
       "\n",
       "#sk-container-id-2 pre {\n",
       "  padding: 0;\n",
       "}\n",
       "\n",
       "#sk-container-id-2 input.sk-hidden--visually {\n",
       "  border: 0;\n",
       "  clip: rect(1px 1px 1px 1px);\n",
       "  clip: rect(1px, 1px, 1px, 1px);\n",
       "  height: 1px;\n",
       "  margin: -1px;\n",
       "  overflow: hidden;\n",
       "  padding: 0;\n",
       "  position: absolute;\n",
       "  width: 1px;\n",
       "}\n",
       "\n",
       "#sk-container-id-2 div.sk-dashed-wrapped {\n",
       "  border: 1px dashed var(--sklearn-color-line);\n",
       "  margin: 0 0.4em 0.5em 0.4em;\n",
       "  box-sizing: border-box;\n",
       "  padding-bottom: 0.4em;\n",
       "  background-color: var(--sklearn-color-background);\n",
       "}\n",
       "\n",
       "#sk-container-id-2 div.sk-container {\n",
       "  /* jupyter's `normalize.less` sets `[hidden] { display: none; }`\n",
       "     but bootstrap.min.css set `[hidden] { display: none !important; }`\n",
       "     so we also need the `!important` here to be able to override the\n",
       "     default hidden behavior on the sphinx rendered scikit-learn.org.\n",
       "     See: https://github.com/scikit-learn/scikit-learn/issues/21755 */\n",
       "  display: inline-block !important;\n",
       "  position: relative;\n",
       "}\n",
       "\n",
       "#sk-container-id-2 div.sk-text-repr-fallback {\n",
       "  display: none;\n",
       "}\n",
       "\n",
       "div.sk-parallel-item,\n",
       "div.sk-serial,\n",
       "div.sk-item {\n",
       "  /* draw centered vertical line to link estimators */\n",
       "  background-image: linear-gradient(var(--sklearn-color-text-on-default-background), var(--sklearn-color-text-on-default-background));\n",
       "  background-size: 2px 100%;\n",
       "  background-repeat: no-repeat;\n",
       "  background-position: center center;\n",
       "}\n",
       "\n",
       "/* Parallel-specific style estimator block */\n",
       "\n",
       "#sk-container-id-2 div.sk-parallel-item::after {\n",
       "  content: \"\";\n",
       "  width: 100%;\n",
       "  border-bottom: 2px solid var(--sklearn-color-text-on-default-background);\n",
       "  flex-grow: 1;\n",
       "}\n",
       "\n",
       "#sk-container-id-2 div.sk-parallel {\n",
       "  display: flex;\n",
       "  align-items: stretch;\n",
       "  justify-content: center;\n",
       "  background-color: var(--sklearn-color-background);\n",
       "  position: relative;\n",
       "}\n",
       "\n",
       "#sk-container-id-2 div.sk-parallel-item {\n",
       "  display: flex;\n",
       "  flex-direction: column;\n",
       "}\n",
       "\n",
       "#sk-container-id-2 div.sk-parallel-item:first-child::after {\n",
       "  align-self: flex-end;\n",
       "  width: 50%;\n",
       "}\n",
       "\n",
       "#sk-container-id-2 div.sk-parallel-item:last-child::after {\n",
       "  align-self: flex-start;\n",
       "  width: 50%;\n",
       "}\n",
       "\n",
       "#sk-container-id-2 div.sk-parallel-item:only-child::after {\n",
       "  width: 0;\n",
       "}\n",
       "\n",
       "/* Serial-specific style estimator block */\n",
       "\n",
       "#sk-container-id-2 div.sk-serial {\n",
       "  display: flex;\n",
       "  flex-direction: column;\n",
       "  align-items: center;\n",
       "  background-color: var(--sklearn-color-background);\n",
       "  padding-right: 1em;\n",
       "  padding-left: 1em;\n",
       "}\n",
       "\n",
       "\n",
       "/* Toggleable style: style used for estimator/Pipeline/ColumnTransformer box that is\n",
       "clickable and can be expanded/collapsed.\n",
       "- Pipeline and ColumnTransformer use this feature and define the default style\n",
       "- Estimators will overwrite some part of the style using the `sk-estimator` class\n",
       "*/\n",
       "\n",
       "/* Pipeline and ColumnTransformer style (default) */\n",
       "\n",
       "#sk-container-id-2 div.sk-toggleable {\n",
       "  /* Default theme specific background. It is overwritten whether we have a\n",
       "  specific estimator or a Pipeline/ColumnTransformer */\n",
       "  background-color: var(--sklearn-color-background);\n",
       "}\n",
       "\n",
       "/* Toggleable label */\n",
       "#sk-container-id-2 label.sk-toggleable__label {\n",
       "  cursor: pointer;\n",
       "  display: flex;\n",
       "  width: 100%;\n",
       "  margin-bottom: 0;\n",
       "  padding: 0.5em;\n",
       "  box-sizing: border-box;\n",
       "  text-align: center;\n",
       "  align-items: start;\n",
       "  justify-content: space-between;\n",
       "  gap: 0.5em;\n",
       "}\n",
       "\n",
       "#sk-container-id-2 label.sk-toggleable__label .caption {\n",
       "  font-size: 0.6rem;\n",
       "  font-weight: lighter;\n",
       "  color: var(--sklearn-color-text-muted);\n",
       "}\n",
       "\n",
       "#sk-container-id-2 label.sk-toggleable__label-arrow:before {\n",
       "  /* Arrow on the left of the label */\n",
       "  content: \"▸\";\n",
       "  float: left;\n",
       "  margin-right: 0.25em;\n",
       "  color: var(--sklearn-color-icon);\n",
       "}\n",
       "\n",
       "#sk-container-id-2 label.sk-toggleable__label-arrow:hover:before {\n",
       "  color: var(--sklearn-color-text);\n",
       "}\n",
       "\n",
       "/* Toggleable content - dropdown */\n",
       "\n",
       "#sk-container-id-2 div.sk-toggleable__content {\n",
       "  display: none;\n",
       "  text-align: left;\n",
       "  /* unfitted */\n",
       "  background-color: var(--sklearn-color-unfitted-level-0);\n",
       "}\n",
       "\n",
       "#sk-container-id-2 div.sk-toggleable__content.fitted {\n",
       "  /* fitted */\n",
       "  background-color: var(--sklearn-color-fitted-level-0);\n",
       "}\n",
       "\n",
       "#sk-container-id-2 div.sk-toggleable__content pre {\n",
       "  margin: 0.2em;\n",
       "  border-radius: 0.25em;\n",
       "  color: var(--sklearn-color-text);\n",
       "  /* unfitted */\n",
       "  background-color: var(--sklearn-color-unfitted-level-0);\n",
       "}\n",
       "\n",
       "#sk-container-id-2 div.sk-toggleable__content.fitted pre {\n",
       "  /* unfitted */\n",
       "  background-color: var(--sklearn-color-fitted-level-0);\n",
       "}\n",
       "\n",
       "#sk-container-id-2 input.sk-toggleable__control:checked~div.sk-toggleable__content {\n",
       "  /* Expand drop-down */\n",
       "  display: block;\n",
       "  width: 100%;\n",
       "  overflow: visible;\n",
       "}\n",
       "\n",
       "#sk-container-id-2 input.sk-toggleable__control:checked~label.sk-toggleable__label-arrow:before {\n",
       "  content: \"▾\";\n",
       "}\n",
       "\n",
       "/* Pipeline/ColumnTransformer-specific style */\n",
       "\n",
       "#sk-container-id-2 div.sk-label input.sk-toggleable__control:checked~label.sk-toggleable__label {\n",
       "  color: var(--sklearn-color-text);\n",
       "  background-color: var(--sklearn-color-unfitted-level-2);\n",
       "}\n",
       "\n",
       "#sk-container-id-2 div.sk-label.fitted input.sk-toggleable__control:checked~label.sk-toggleable__label {\n",
       "  background-color: var(--sklearn-color-fitted-level-2);\n",
       "}\n",
       "\n",
       "/* Estimator-specific style */\n",
       "\n",
       "/* Colorize estimator box */\n",
       "#sk-container-id-2 div.sk-estimator input.sk-toggleable__control:checked~label.sk-toggleable__label {\n",
       "  /* unfitted */\n",
       "  background-color: var(--sklearn-color-unfitted-level-2);\n",
       "}\n",
       "\n",
       "#sk-container-id-2 div.sk-estimator.fitted input.sk-toggleable__control:checked~label.sk-toggleable__label {\n",
       "  /* fitted */\n",
       "  background-color: var(--sklearn-color-fitted-level-2);\n",
       "}\n",
       "\n",
       "#sk-container-id-2 div.sk-label label.sk-toggleable__label,\n",
       "#sk-container-id-2 div.sk-label label {\n",
       "  /* The background is the default theme color */\n",
       "  color: var(--sklearn-color-text-on-default-background);\n",
       "}\n",
       "\n",
       "/* On hover, darken the color of the background */\n",
       "#sk-container-id-2 div.sk-label:hover label.sk-toggleable__label {\n",
       "  color: var(--sklearn-color-text);\n",
       "  background-color: var(--sklearn-color-unfitted-level-2);\n",
       "}\n",
       "\n",
       "/* Label box, darken color on hover, fitted */\n",
       "#sk-container-id-2 div.sk-label.fitted:hover label.sk-toggleable__label.fitted {\n",
       "  color: var(--sklearn-color-text);\n",
       "  background-color: var(--sklearn-color-fitted-level-2);\n",
       "}\n",
       "\n",
       "/* Estimator label */\n",
       "\n",
       "#sk-container-id-2 div.sk-label label {\n",
       "  font-family: monospace;\n",
       "  font-weight: bold;\n",
       "  display: inline-block;\n",
       "  line-height: 1.2em;\n",
       "}\n",
       "\n",
       "#sk-container-id-2 div.sk-label-container {\n",
       "  text-align: center;\n",
       "}\n",
       "\n",
       "/* Estimator-specific */\n",
       "#sk-container-id-2 div.sk-estimator {\n",
       "  font-family: monospace;\n",
       "  border: 1px dotted var(--sklearn-color-border-box);\n",
       "  border-radius: 0.25em;\n",
       "  box-sizing: border-box;\n",
       "  margin-bottom: 0.5em;\n",
       "  /* unfitted */\n",
       "  background-color: var(--sklearn-color-unfitted-level-0);\n",
       "}\n",
       "\n",
       "#sk-container-id-2 div.sk-estimator.fitted {\n",
       "  /* fitted */\n",
       "  background-color: var(--sklearn-color-fitted-level-0);\n",
       "}\n",
       "\n",
       "/* on hover */\n",
       "#sk-container-id-2 div.sk-estimator:hover {\n",
       "  /* unfitted */\n",
       "  background-color: var(--sklearn-color-unfitted-level-2);\n",
       "}\n",
       "\n",
       "#sk-container-id-2 div.sk-estimator.fitted:hover {\n",
       "  /* fitted */\n",
       "  background-color: var(--sklearn-color-fitted-level-2);\n",
       "}\n",
       "\n",
       "/* Specification for estimator info (e.g. \"i\" and \"?\") */\n",
       "\n",
       "/* Common style for \"i\" and \"?\" */\n",
       "\n",
       ".sk-estimator-doc-link,\n",
       "a:link.sk-estimator-doc-link,\n",
       "a:visited.sk-estimator-doc-link {\n",
       "  float: right;\n",
       "  font-size: smaller;\n",
       "  line-height: 1em;\n",
       "  font-family: monospace;\n",
       "  background-color: var(--sklearn-color-background);\n",
       "  border-radius: 1em;\n",
       "  height: 1em;\n",
       "  width: 1em;\n",
       "  text-decoration: none !important;\n",
       "  margin-left: 0.5em;\n",
       "  text-align: center;\n",
       "  /* unfitted */\n",
       "  border: var(--sklearn-color-unfitted-level-1) 1pt solid;\n",
       "  color: var(--sklearn-color-unfitted-level-1);\n",
       "}\n",
       "\n",
       ".sk-estimator-doc-link.fitted,\n",
       "a:link.sk-estimator-doc-link.fitted,\n",
       "a:visited.sk-estimator-doc-link.fitted {\n",
       "  /* fitted */\n",
       "  border: var(--sklearn-color-fitted-level-1) 1pt solid;\n",
       "  color: var(--sklearn-color-fitted-level-1);\n",
       "}\n",
       "\n",
       "/* On hover */\n",
       "div.sk-estimator:hover .sk-estimator-doc-link:hover,\n",
       ".sk-estimator-doc-link:hover,\n",
       "div.sk-label-container:hover .sk-estimator-doc-link:hover,\n",
       ".sk-estimator-doc-link:hover {\n",
       "  /* unfitted */\n",
       "  background-color: var(--sklearn-color-unfitted-level-3);\n",
       "  color: var(--sklearn-color-background);\n",
       "  text-decoration: none;\n",
       "}\n",
       "\n",
       "div.sk-estimator.fitted:hover .sk-estimator-doc-link.fitted:hover,\n",
       ".sk-estimator-doc-link.fitted:hover,\n",
       "div.sk-label-container:hover .sk-estimator-doc-link.fitted:hover,\n",
       ".sk-estimator-doc-link.fitted:hover {\n",
       "  /* fitted */\n",
       "  background-color: var(--sklearn-color-fitted-level-3);\n",
       "  color: var(--sklearn-color-background);\n",
       "  text-decoration: none;\n",
       "}\n",
       "\n",
       "/* Span, style for the box shown on hovering the info icon */\n",
       ".sk-estimator-doc-link span {\n",
       "  display: none;\n",
       "  z-index: 9999;\n",
       "  position: relative;\n",
       "  font-weight: normal;\n",
       "  right: .2ex;\n",
       "  padding: .5ex;\n",
       "  margin: .5ex;\n",
       "  width: min-content;\n",
       "  min-width: 20ex;\n",
       "  max-width: 50ex;\n",
       "  color: var(--sklearn-color-text);\n",
       "  box-shadow: 2pt 2pt 4pt #999;\n",
       "  /* unfitted */\n",
       "  background: var(--sklearn-color-unfitted-level-0);\n",
       "  border: .5pt solid var(--sklearn-color-unfitted-level-3);\n",
       "}\n",
       "\n",
       ".sk-estimator-doc-link.fitted span {\n",
       "  /* fitted */\n",
       "  background: var(--sklearn-color-fitted-level-0);\n",
       "  border: var(--sklearn-color-fitted-level-3);\n",
       "}\n",
       "\n",
       ".sk-estimator-doc-link:hover span {\n",
       "  display: block;\n",
       "}\n",
       "\n",
       "/* \"?\"-specific style due to the `<a>` HTML tag */\n",
       "\n",
       "#sk-container-id-2 a.estimator_doc_link {\n",
       "  float: right;\n",
       "  font-size: 1rem;\n",
       "  line-height: 1em;\n",
       "  font-family: monospace;\n",
       "  background-color: var(--sklearn-color-background);\n",
       "  border-radius: 1rem;\n",
       "  height: 1rem;\n",
       "  width: 1rem;\n",
       "  text-decoration: none;\n",
       "  /* unfitted */\n",
       "  color: var(--sklearn-color-unfitted-level-1);\n",
       "  border: var(--sklearn-color-unfitted-level-1) 1pt solid;\n",
       "}\n",
       "\n",
       "#sk-container-id-2 a.estimator_doc_link.fitted {\n",
       "  /* fitted */\n",
       "  border: var(--sklearn-color-fitted-level-1) 1pt solid;\n",
       "  color: var(--sklearn-color-fitted-level-1);\n",
       "}\n",
       "\n",
       "/* On hover */\n",
       "#sk-container-id-2 a.estimator_doc_link:hover {\n",
       "  /* unfitted */\n",
       "  background-color: var(--sklearn-color-unfitted-level-3);\n",
       "  color: var(--sklearn-color-background);\n",
       "  text-decoration: none;\n",
       "}\n",
       "\n",
       "#sk-container-id-2 a.estimator_doc_link.fitted:hover {\n",
       "  /* fitted */\n",
       "  background-color: var(--sklearn-color-fitted-level-3);\n",
       "}\n",
       "\n",
       ".estimator-table summary {\n",
       "    padding: .5rem;\n",
       "    font-family: monospace;\n",
       "    cursor: pointer;\n",
       "}\n",
       "\n",
       ".estimator-table details[open] {\n",
       "    padding-left: 0.1rem;\n",
       "    padding-right: 0.1rem;\n",
       "    padding-bottom: 0.3rem;\n",
       "}\n",
       "\n",
       ".estimator-table .parameters-table {\n",
       "    margin-left: auto !important;\n",
       "    margin-right: auto !important;\n",
       "}\n",
       "\n",
       ".estimator-table .parameters-table tr:nth-child(odd) {\n",
       "    background-color: #fff;\n",
       "}\n",
       "\n",
       ".estimator-table .parameters-table tr:nth-child(even) {\n",
       "    background-color: #f6f6f6;\n",
       "}\n",
       "\n",
       ".estimator-table .parameters-table tr:hover {\n",
       "    background-color: #e0e0e0;\n",
       "}\n",
       "\n",
       ".estimator-table table td {\n",
       "    border: 1px solid rgba(106, 105, 104, 0.232);\n",
       "}\n",
       "\n",
       ".user-set td {\n",
       "    color:rgb(255, 94, 0);\n",
       "    text-align: left;\n",
       "}\n",
       "\n",
       ".user-set td.value pre {\n",
       "    color:rgb(255, 94, 0) !important;\n",
       "    background-color: transparent !important;\n",
       "}\n",
       "\n",
       ".default td {\n",
       "    color: black;\n",
       "    text-align: left;\n",
       "}\n",
       "\n",
       ".user-set td i,\n",
       ".default td i {\n",
       "    color: black;\n",
       "}\n",
       "\n",
       ".copy-paste-icon {\n",
       "    background-image: url(data:image/svg+xml;base64,PHN2ZyB4bWxucz0iaHR0cDovL3d3dy53My5vcmcvMjAwMC9zdmciIHZpZXdCb3g9IjAgMCA0NDggNTEyIj48IS0tIUZvbnQgQXdlc29tZSBGcmVlIDYuNy4yIGJ5IEBmb250YXdlc29tZSAtIGh0dHBzOi8vZm9udGF3ZXNvbWUuY29tIExpY2Vuc2UgLSBodHRwczovL2ZvbnRhd2Vzb21lLmNvbS9saWNlbnNlL2ZyZWUgQ29weXJpZ2h0IDIwMjUgRm9udGljb25zLCBJbmMuLS0+PHBhdGggZD0iTTIwOCAwTDMzMi4xIDBjMTIuNyAwIDI0LjkgNS4xIDMzLjkgMTQuMWw2Ny45IDY3LjljOSA5IDE0LjEgMjEuMiAxNC4xIDMzLjlMNDQ4IDMzNmMwIDI2LjUtMjEuNSA0OC00OCA0OGwtMTkyIDBjLTI2LjUgMC00OC0yMS41LTQ4LTQ4bDAtMjg4YzAtMjYuNSAyMS41LTQ4IDQ4LTQ4ek00OCAxMjhsODAgMCAwIDY0LTY0IDAgMCAyNTYgMTkyIDAgMC0zMiA2NCAwIDAgNDhjMCAyNi41LTIxLjUgNDgtNDggNDhMNDggNTEyYy0yNi41IDAtNDgtMjEuNS00OC00OEwwIDE3NmMwLTI2LjUgMjEuNS00OCA0OC00OHoiLz48L3N2Zz4=);\n",
       "    background-repeat: no-repeat;\n",
       "    background-size: 14px 14px;\n",
       "    background-position: 0;\n",
       "    display: inline-block;\n",
       "    width: 14px;\n",
       "    height: 14px;\n",
       "    cursor: pointer;\n",
       "}\n",
       "</style><body><div id=\"sk-container-id-2\" class=\"sk-top-container\"><div class=\"sk-text-repr-fallback\"><pre>LogisticRegression()</pre><b>In a Jupyter environment, please rerun this cell to show the HTML representation or trust the notebook. <br />On GitHub, the HTML representation is unable to render, please try loading this page with nbviewer.org.</b></div><div class=\"sk-container\" hidden><div class=\"sk-item\"><div class=\"sk-estimator fitted sk-toggleable\"><input class=\"sk-toggleable__control sk-hidden--visually\" id=\"sk-estimator-id-2\" type=\"checkbox\" checked><label for=\"sk-estimator-id-2\" class=\"sk-toggleable__label fitted sk-toggleable__label-arrow\"><div><div>LogisticRegression</div></div><div><a class=\"sk-estimator-doc-link fitted\" rel=\"noreferrer\" target=\"_blank\" href=\"https://scikit-learn.org/1.7/modules/generated/sklearn.linear_model.LogisticRegression.html\">?<span>Documentation for LogisticRegression</span></a><span class=\"sk-estimator-doc-link fitted\">i<span>Fitted</span></span></div></label><div class=\"sk-toggleable__content fitted\" data-param-prefix=\"\">\n",
       "        <div class=\"estimator-table\">\n",
       "            <details>\n",
       "                <summary>Parameters</summary>\n",
       "                <table class=\"parameters-table\">\n",
       "                  <tbody>\n",
       "                    \n",
       "        <tr class=\"default\">\n",
       "            <td><i class=\"copy-paste-icon\"\n",
       "                 onclick=\"copyToClipboard('penalty',\n",
       "                          this.parentElement.nextElementSibling)\"\n",
       "            ></i></td>\n",
       "            <td class=\"param\">penalty&nbsp;</td>\n",
       "            <td class=\"value\">&#x27;l2&#x27;</td>\n",
       "        </tr>\n",
       "    \n",
       "\n",
       "        <tr class=\"default\">\n",
       "            <td><i class=\"copy-paste-icon\"\n",
       "                 onclick=\"copyToClipboard('dual',\n",
       "                          this.parentElement.nextElementSibling)\"\n",
       "            ></i></td>\n",
       "            <td class=\"param\">dual&nbsp;</td>\n",
       "            <td class=\"value\">False</td>\n",
       "        </tr>\n",
       "    \n",
       "\n",
       "        <tr class=\"default\">\n",
       "            <td><i class=\"copy-paste-icon\"\n",
       "                 onclick=\"copyToClipboard('tol',\n",
       "                          this.parentElement.nextElementSibling)\"\n",
       "            ></i></td>\n",
       "            <td class=\"param\">tol&nbsp;</td>\n",
       "            <td class=\"value\">0.0001</td>\n",
       "        </tr>\n",
       "    \n",
       "\n",
       "        <tr class=\"default\">\n",
       "            <td><i class=\"copy-paste-icon\"\n",
       "                 onclick=\"copyToClipboard('C',\n",
       "                          this.parentElement.nextElementSibling)\"\n",
       "            ></i></td>\n",
       "            <td class=\"param\">C&nbsp;</td>\n",
       "            <td class=\"value\">1.0</td>\n",
       "        </tr>\n",
       "    \n",
       "\n",
       "        <tr class=\"default\">\n",
       "            <td><i class=\"copy-paste-icon\"\n",
       "                 onclick=\"copyToClipboard('fit_intercept',\n",
       "                          this.parentElement.nextElementSibling)\"\n",
       "            ></i></td>\n",
       "            <td class=\"param\">fit_intercept&nbsp;</td>\n",
       "            <td class=\"value\">True</td>\n",
       "        </tr>\n",
       "    \n",
       "\n",
       "        <tr class=\"default\">\n",
       "            <td><i class=\"copy-paste-icon\"\n",
       "                 onclick=\"copyToClipboard('intercept_scaling',\n",
       "                          this.parentElement.nextElementSibling)\"\n",
       "            ></i></td>\n",
       "            <td class=\"param\">intercept_scaling&nbsp;</td>\n",
       "            <td class=\"value\">1</td>\n",
       "        </tr>\n",
       "    \n",
       "\n",
       "        <tr class=\"default\">\n",
       "            <td><i class=\"copy-paste-icon\"\n",
       "                 onclick=\"copyToClipboard('class_weight',\n",
       "                          this.parentElement.nextElementSibling)\"\n",
       "            ></i></td>\n",
       "            <td class=\"param\">class_weight&nbsp;</td>\n",
       "            <td class=\"value\">None</td>\n",
       "        </tr>\n",
       "    \n",
       "\n",
       "        <tr class=\"default\">\n",
       "            <td><i class=\"copy-paste-icon\"\n",
       "                 onclick=\"copyToClipboard('random_state',\n",
       "                          this.parentElement.nextElementSibling)\"\n",
       "            ></i></td>\n",
       "            <td class=\"param\">random_state&nbsp;</td>\n",
       "            <td class=\"value\">None</td>\n",
       "        </tr>\n",
       "    \n",
       "\n",
       "        <tr class=\"default\">\n",
       "            <td><i class=\"copy-paste-icon\"\n",
       "                 onclick=\"copyToClipboard('solver',\n",
       "                          this.parentElement.nextElementSibling)\"\n",
       "            ></i></td>\n",
       "            <td class=\"param\">solver&nbsp;</td>\n",
       "            <td class=\"value\">&#x27;lbfgs&#x27;</td>\n",
       "        </tr>\n",
       "    \n",
       "\n",
       "        <tr class=\"default\">\n",
       "            <td><i class=\"copy-paste-icon\"\n",
       "                 onclick=\"copyToClipboard('max_iter',\n",
       "                          this.parentElement.nextElementSibling)\"\n",
       "            ></i></td>\n",
       "            <td class=\"param\">max_iter&nbsp;</td>\n",
       "            <td class=\"value\">100</td>\n",
       "        </tr>\n",
       "    \n",
       "\n",
       "        <tr class=\"default\">\n",
       "            <td><i class=\"copy-paste-icon\"\n",
       "                 onclick=\"copyToClipboard('multi_class',\n",
       "                          this.parentElement.nextElementSibling)\"\n",
       "            ></i></td>\n",
       "            <td class=\"param\">multi_class&nbsp;</td>\n",
       "            <td class=\"value\">&#x27;deprecated&#x27;</td>\n",
       "        </tr>\n",
       "    \n",
       "\n",
       "        <tr class=\"default\">\n",
       "            <td><i class=\"copy-paste-icon\"\n",
       "                 onclick=\"copyToClipboard('verbose',\n",
       "                          this.parentElement.nextElementSibling)\"\n",
       "            ></i></td>\n",
       "            <td class=\"param\">verbose&nbsp;</td>\n",
       "            <td class=\"value\">0</td>\n",
       "        </tr>\n",
       "    \n",
       "\n",
       "        <tr class=\"default\">\n",
       "            <td><i class=\"copy-paste-icon\"\n",
       "                 onclick=\"copyToClipboard('warm_start',\n",
       "                          this.parentElement.nextElementSibling)\"\n",
       "            ></i></td>\n",
       "            <td class=\"param\">warm_start&nbsp;</td>\n",
       "            <td class=\"value\">False</td>\n",
       "        </tr>\n",
       "    \n",
       "\n",
       "        <tr class=\"default\">\n",
       "            <td><i class=\"copy-paste-icon\"\n",
       "                 onclick=\"copyToClipboard('n_jobs',\n",
       "                          this.parentElement.nextElementSibling)\"\n",
       "            ></i></td>\n",
       "            <td class=\"param\">n_jobs&nbsp;</td>\n",
       "            <td class=\"value\">None</td>\n",
       "        </tr>\n",
       "    \n",
       "\n",
       "        <tr class=\"default\">\n",
       "            <td><i class=\"copy-paste-icon\"\n",
       "                 onclick=\"copyToClipboard('l1_ratio',\n",
       "                          this.parentElement.nextElementSibling)\"\n",
       "            ></i></td>\n",
       "            <td class=\"param\">l1_ratio&nbsp;</td>\n",
       "            <td class=\"value\">None</td>\n",
       "        </tr>\n",
       "    \n",
       "                  </tbody>\n",
       "                </table>\n",
       "            </details>\n",
       "        </div>\n",
       "    </div></div></div></div></div><script>function copyToClipboard(text, element) {\n",
       "    // Get the parameter prefix from the closest toggleable content\n",
       "    const toggleableContent = element.closest('.sk-toggleable__content');\n",
       "    const paramPrefix = toggleableContent ? toggleableContent.dataset.paramPrefix : '';\n",
       "    const fullParamName = paramPrefix ? `${paramPrefix}${text}` : text;\n",
       "\n",
       "    const originalStyle = element.style;\n",
       "    const computedStyle = window.getComputedStyle(element);\n",
       "    const originalWidth = computedStyle.width;\n",
       "    const originalHTML = element.innerHTML.replace('Copied!', '');\n",
       "\n",
       "    navigator.clipboard.writeText(fullParamName)\n",
       "        .then(() => {\n",
       "            element.style.width = originalWidth;\n",
       "            element.style.color = 'green';\n",
       "            element.innerHTML = \"Copied!\";\n",
       "\n",
       "            setTimeout(() => {\n",
       "                element.innerHTML = originalHTML;\n",
       "                element.style = originalStyle;\n",
       "            }, 2000);\n",
       "        })\n",
       "        .catch(err => {\n",
       "            console.error('Failed to copy:', err);\n",
       "            element.style.color = 'red';\n",
       "            element.innerHTML = \"Failed!\";\n",
       "            setTimeout(() => {\n",
       "                element.innerHTML = originalHTML;\n",
       "                element.style = originalStyle;\n",
       "            }, 2000);\n",
       "        });\n",
       "    return false;\n",
       "}\n",
       "\n",
       "document.querySelectorAll('.fa-regular.fa-copy').forEach(function(element) {\n",
       "    const toggleableContent = element.closest('.sk-toggleable__content');\n",
       "    const paramPrefix = toggleableContent ? toggleableContent.dataset.paramPrefix : '';\n",
       "    const paramName = element.parentElement.nextElementSibling.textContent.trim();\n",
       "    const fullParamName = paramPrefix ? `${paramPrefix}${paramName}` : paramName;\n",
       "\n",
       "    element.setAttribute('title', fullParamName);\n",
       "});\n",
       "</script></body>"
      ],
      "text/plain": [
       "LogisticRegression()"
      ]
     },
     "execution_count": 107,
     "metadata": {},
     "output_type": "execute_result"
    }
   ],
   "source": [
    "X = np.array([3.78, 2.44, 2.09, 0.14, 1.72, 1.65, 4.92, 4.37, 4.96, 4.52, \n",
    "              3.69, 5.88]).reshape(-1,1)\n",
    "y = np.array([0, 0, 0, 0, 0, 0, 1, 1, 1, 1, 1, 1])\n",
    "\n",
    "model = linear_model.LogisticRegression()\n",
    "model.fit(X,y)"
   ]
  },
  {
   "cell_type": "markdown",
   "id": "89ec4c28-bb09-4d11-88f1-2609eb78bf4b",
   "metadata": {},
   "source": [
    "wow"
   ]
  },
  {
   "cell_type": "code",
   "execution_count": 110,
   "id": "d77adcd0-b77b-4472-b42e-6ef39f891d89",
   "metadata": {},
   "outputs": [
    {
     "name": "stdout",
     "output_type": "stream",
     "text": [
      "[0]\n"
     ]
    }
   ],
   "source": [
    "print(model.predict(np.array([3.46]).reshape(-1,1)))"
   ]
  },
  {
   "cell_type": "code",
   "execution_count": 111,
   "id": "8480bad9-85ba-41d3-abbd-7f9a16c8362c",
   "metadata": {},
   "outputs": [
    {
     "name": "stdout",
     "output_type": "stream",
     "text": [
      "[[4.03557295]]\n"
     ]
    }
   ],
   "source": [
    "log_odds = model.coef_\n",
    "odds = np.exp(log_odds)\n",
    "\n",
    "print(odds)"
   ]
  },
  {
   "cell_type": "markdown",
   "id": "c4cb2cbc-35c7-4bbc-9569-83660768ff79",
   "metadata": {},
   "source": [
    "This tells us that as the size of a tumor increases by 1mm the odds of it being a cancerous tumor increases by 4x."
   ]
  },
  {
   "cell_type": "markdown",
   "id": "ce37458a-1fee-4e7f-8cee-65ffeb606367",
   "metadata": {},
   "source": [
    "Create a function that uses the model's coefficient and intercept values to return a new value. This new value represents probability that the given observation is a tumor:"
   ]
  },
  {
   "cell_type": "markdown",
   "id": "ea127019-4c39-431d-95c8-0584f4013b9d",
   "metadata": {},
   "source": [
    "<h1>Grid search</h1>"
   ]
  },
  {
   "cell_type": "markdown",
   "id": "a015635d-0335-4a92-b923-8d6d2c54a880",
   "metadata": {},
   "source": [
    "One method is to try out different values and then pick the value that gives the best score. This technique is known as a grid search. If we had to select the values for two or more parameters, we would evaluate all combinations of the sets of values thus forming a grid of values."
   ]
  },
  {
   "cell_type": "markdown",
   "id": "449fd00e-1a34-4caf-bdb2-df84d993c941",
   "metadata": {},
   "source": [
    "First let's see what kind of results we can generate without a grid search using only the base parameters."
   ]
  },
  {
   "cell_type": "code",
   "execution_count": 114,
   "id": "ce3d491c-3444-4e92-aa5c-aa83324f592f",
   "metadata": {},
   "outputs": [],
   "source": [
    "iris = datasets.load_iris()\n",
    "X = iris['data']\n",
    "y = iris['target']"
   ]
  },
  {
   "cell_type": "code",
   "execution_count": 119,
   "id": "88bcff9c-513d-4975-b266-915317ff3277",
   "metadata": {},
   "outputs": [
    {
     "name": "stdout",
     "output_type": "stream",
     "text": [
      "0.9733333333333334\n"
     ]
    }
   ],
   "source": [
    "logit = LogisticRegression(max_iter = 10000)\n",
    "logit.fit(X,y)\n",
    "print(logit.score(X,y))"
   ]
  },
  {
   "cell_type": "code",
   "execution_count": 121,
   "id": "f97801c5-106c-49ac-9b7c-d8c8dbde8f03",
   "metadata": {},
   "outputs": [
    {
     "name": "stdout",
     "output_type": "stream",
     "text": [
      "[0.9666666666666667, 0.9666666666666667, 0.9733333333333334, 0.9733333333333334, 0.98, 0.98, 0.9866666666666667, 0.9866666666666667]\n"
     ]
    }
   ],
   "source": [
    "C = [0.25, 0.5, 0.75, 1, 1.25, 1.5, 1.75, 2]\n",
    "scores = []\n",
    "\n",
    "for choice in C:\n",
    "  logit.set_params(C=choice)\n",
    "  logit.fit(X, y)\n",
    "  scores.append(logit.score(X, y))\n",
    "\n",
    "print(scores)"
   ]
  },
  {
   "cell_type": "markdown",
   "id": "aafd5f41-8754-4b0a-a87b-551f88b2b50b",
   "metadata": {},
   "source": [
    "<h1>Categorical data</h1>"
   ]
  },
  {
   "cell_type": "markdown",
   "id": "abd0a90f-910d-4dbf-8fe7-6e8eb209977b",
   "metadata": {},
   "source": [
    "One hot encoding - a column representing each group in the category. For each column, the values will be 1 or 0 where 1 represents the inclusion of the group and 0 represents the exclusion."
   ]
  },
  {
   "cell_type": "code",
   "execution_count": 123,
   "id": "17a89143-6c5d-4781-b39e-e6656d3c5410",
   "metadata": {},
   "outputs": [],
   "source": [
    "#cars = pd.get_dummies(cars[['Car']]) \n",
    "#- makes 0/1 columns of Car column categories\n",
    "#X = pandas.concat([cars[['Volume', 'Weight']], ohe_cars], axis=1)\n",
    "#joins new columns to dataFrame "
   ]
  },
  {
   "cell_type": "markdown",
   "id": "20f3562b-8cdc-44cc-a01c-90007db46501",
   "metadata": {},
   "source": [
    "It is not necessary to create one column for each group in your category. The information can be retained using 1 column less than the number of groups you have.\n",
    "<br>To do this, we can use the same function that we used for one hot encoding, get_dummies, and then drop one of the columns. There is an argument, drop_first, which allows us to exclude the first column from the resulting table."
   ]
  },
  {
   "cell_type": "code",
   "execution_count": 124,
   "id": "b146e7ba-8f66-4d01-9f0b-b2dbc3efe8bc",
   "metadata": {},
   "outputs": [],
   "source": [
    "#dummies = pd.get_dummies(colors, drop_first=True)"
   ]
  },
  {
   "cell_type": "markdown",
   "id": "76e947c5-3812-451f-8fd7-1eed83b0ec2d",
   "metadata": {},
   "source": [
    "<h1>K-means</h1>"
   ]
  },
  {
   "cell_type": "markdown",
   "id": "bf13ddaa-57e8-4348-8a8c-3c399952ea8c",
   "metadata": {},
   "source": [
    "First, each data point is randomly assigned to one of the K clusters. Then, we compute the centroid (functionally the center) of each cluster, and reassign each data point to the cluster with the closest centroid. We repeat this process until the cluster assignments for each data point are no longer changing.\n",
    "<br>K-means clustering requires us to select K, the number of clusters we want to group the data into. The elbow method lets us graph the inertia (a distance-based metric) and visualize the point at which it starts decreasing linearly. This point is referred to as the \"elbow\" and is a good estimate for the best value for K based on our data."
   ]
  },
  {
   "cell_type": "code",
   "execution_count": 127,
   "id": "b4dd83a4-4c8f-4484-8ffe-187747a7c7d3",
   "metadata": {},
   "outputs": [
    {
     "data": {
      "image/png": "[encoded data removed]",
      "text/plain": [
       "<Figure size 640x480 with 1 Axes>"
      ]
     },
     "metadata": {},
     "output_type": "display_data"
    }
   ],
   "source": [
    "x = [4, 5, 10, 4, 3, 11, 14 , 6, 10, 12]\n",
    "y = [21, 19, 24, 17, 16, 25, 24, 22, 21, 21]\n",
    "\n",
    "data = list(zip(x, y))\n",
    "inertias = []\n",
    "\n",
    "for i in range(1,11):\n",
    "    kmeans = KMeans(n_clusters=i)\n",
    "    kmeans.fit(data)\n",
    "    inertias.append(kmeans.inertia_)\n",
    "\n",
    "plt.plot(range(1,11), inertias, marker='o')\n",
    "plt.title('Elbow method')\n",
    "plt.xlabel('Number of clusters')\n",
    "plt.ylabel('Inertia')\n",
    "plt.show()"
   ]
  },
  {
   "cell_type": "markdown",
   "id": "b5cc406e-8a90-435f-8fbf-10a34705c885",
   "metadata": {},
   "source": [
    "The elbow method shows that 2 is a good value for K."
   ]
  },
  {
   "cell_type": "markdown",
   "id": "bf94be9f-f251-4d91-9fb8-253e2c4325be",
   "metadata": {},
   "source": [
    "<h1>Bootstrap aggregation ???</h1>"
   ]
  },
  {
   "cell_type": "markdown",
   "id": "ec020ed9-5b34-44ac-ae0e-142a41b59ef0",
   "metadata": {},
   "source": [
    "<h1>Cross validation</h1>"
   ]
  },
  {
   "cell_type": "code",
   "execution_count": 143,
   "id": "21acaab4-21b3-4ab7-88ab-326ea26f8887",
   "metadata": {},
   "outputs": [],
   "source": [
    "X, y = datasets.load_iris(return_X_y=True)"
   ]
  },
  {
   "cell_type": "markdown",
   "id": "853a4936-6cbc-4e6b-89a2-01e057342817",
   "metadata": {},
   "source": [
    "K-Fold - The training data used in the model is split, into k number of smaller sets, to be used to validate the model. The model is then trained on k-1 folds of training set. The remaining fold is then used as a validation set to evaluate the model."
   ]
  },
  {
   "cell_type": "code",
   "execution_count": 149,
   "id": "dc4b32fe-802a-49f0-8a0b-5af25429e7b0",
   "metadata": {},
   "outputs": [
    {
     "name": "stdout",
     "output_type": "stream",
     "text": [
      "Cross Validation Scores:  [1.         0.94736842 0.89189189 0.7027027 ]\n",
      "Average CV Score:  0.8854907539118064\n",
      "Number of CV Scores used in Average:  4\n"
     ]
    }
   ],
   "source": [
    "clf = DecisionTreeClassifier(random_state=42)\n",
    "k_folds = KFold(n_splits = 4)\n",
    "\n",
    "scores = cross_val_score(clf, X, y, cv = k_folds)\n",
    "print(\"Cross Validation Scores: \", scores)\n",
    "print(\"Average CV Score: \", scores.mean())\n",
    "print(\"Number of CV Scores used in Average: \", len(scores))"
   ]
  },
  {
   "cell_type": "markdown",
   "id": "e4eabec0-f736-4afe-9c43-f5078c956e9d",
   "metadata": {},
   "source": [
    "Stratified K-Fold - In cases where classes are imbalanced we need a way to account for the imbalance in both the train and validation sets. To do so we can stratify the target classes, meaning that both sets will have an equal proportion of all classes."
   ]
  },
  {
   "cell_type": "code",
   "execution_count": 151,
   "id": "1d7794f7-8207-4665-ba8c-16dba3bdf89c",
   "metadata": {},
   "outputs": [
    {
     "name": "stdout",
     "output_type": "stream",
     "text": [
      "Cross Validation Scores:  [0.96666667 0.96666667 0.9        0.93333333 1.        ]\n",
      "Average CV Score:  0.9533333333333334\n",
      "Number of CV Scores used in Average:  5\n"
     ]
    }
   ],
   "source": [
    "sk_folds = StratifiedKFold(n_splits = 5)\n",
    "\n",
    "scores = cross_val_score(clf, X, y, cv = sk_folds)\n",
    "print(\"Cross Validation Scores: \", scores)\n",
    "print(\"Average CV Score: \", scores.mean())\n",
    "print(\"Number of CV Scores used in Average: \", len(scores))"
   ]
  },
  {
   "cell_type": "markdown",
   "id": "23efb289-6640-4195-9fe9-1bd9839894dc",
   "metadata": {},
   "source": [
    "Leave-One-Out (LOO) - Instead of selecting the number of splits in the training data set like k-fold LeaveOneOut, utilize 1 observation to validate and n-1 observations to train. This method is an exaustive technique."
   ]
  },
  {
   "cell_type": "code",
   "execution_count": 153,
   "id": "af43fcdb-1617-48ee-91f6-0cda9679193a",
   "metadata": {},
   "outputs": [
    {
     "name": "stdout",
     "output_type": "stream",
     "text": [
      "Cross Validation Scores:  [1. 1. 1. 1. 1. 1. 1. 1. 1. 1. 1. 1. 1. 1. 1. 1. 1. 1. 1. 1. 1. 1. 1. 1.\n",
      " 1. 1. 1. 1. 1. 1. 1. 1. 1. 1. 1. 1. 1. 1. 1. 1. 1. 1. 1. 1. 1. 1. 1. 1.\n",
      " 1. 1. 1. 1. 1. 1. 1. 1. 1. 0. 1. 1. 1. 1. 1. 1. 1. 1. 1. 1. 1. 1. 0. 1.\n",
      " 1. 1. 1. 1. 1. 0. 1. 1. 1. 1. 1. 0. 1. 1. 1. 1. 1. 1. 1. 1. 1. 1. 1. 1.\n",
      " 1. 1. 1. 1. 1. 1. 1. 1. 1. 1. 0. 1. 1. 1. 1. 1. 1. 1. 1. 1. 1. 1. 1. 0.\n",
      " 1. 1. 1. 1. 1. 1. 1. 1. 1. 0. 1. 1. 1. 0. 1. 1. 1. 1. 0. 1. 1. 1. 1. 1.\n",
      " 1. 1. 1. 1. 1. 1.]\n",
      "Average CV Score:  0.94\n",
      "Number of CV Scores used in Average:  150\n"
     ]
    }
   ],
   "source": [
    "loo = LeaveOneOut()\n",
    "\n",
    "scores = cross_val_score(clf, X, y, cv = loo)\n",
    "print(\"Cross Validation Scores: \", scores)\n",
    "print(\"Average CV Score: \", scores.mean())\n",
    "print(\"Number of CV Scores used in Average: \", len(scores))"
   ]
  },
  {
   "cell_type": "markdown",
   "id": "c004d72d-879d-4c2a-bdfc-4f6fcd256af3",
   "metadata": {},
   "source": [
    "Leave-P-Out (LPO) - Leave-P-Out is simply a nuanced diffence to the Leave-One-Out idea, in that we can select the number of p to use in our validation set."
   ]
  },
  {
   "cell_type": "code",
   "execution_count": 156,
   "id": "d41cb3a4-1123-482e-a1af-d2fb5c454c64",
   "metadata": {},
   "outputs": [
    {
     "name": "stdout",
     "output_type": "stream",
     "text": [
      "Cross Validation Scores:  [1. 1. 1. ... 1. 1. 1.]\n",
      "Average CV Score:  0.9382997762863534\n",
      "Number of CV Scores used in Average:  11175\n"
     ]
    }
   ],
   "source": [
    "lpo = LeavePOut(p=2)\n",
    "\n",
    "scores = cross_val_score(clf, X, y, cv = lpo)\n",
    "print(\"Cross Validation Scores: \", scores)\n",
    "print(\"Average CV Score: \", scores.mean())\n",
    "print(\"Number of CV Scores used in Average: \", len(scores))"
   ]
  },
  {
   "cell_type": "markdown",
   "id": "03020d86-9f10-49bb-ac94-d1240537c727",
   "metadata": {},
   "source": [
    "Shuffle Split - Unlike KFold, ShuffleSplit leaves out a percentage of the data, not to be used in the train or validation sets. To do so we must decide what the train and test sizes are, as well as the number of splits."
   ]
  },
  {
   "cell_type": "code",
   "execution_count": 158,
   "id": "f20902a7-fb47-453d-a82b-b963d2768e8b",
   "metadata": {},
   "outputs": [
    {
     "name": "stdout",
     "output_type": "stream",
     "text": [
      "Cross Validation Scores:  [0.93333333 0.91111111 0.93333333 0.91111111 0.88888889]\n",
      "Average CV Score:  0.9155555555555555\n",
      "Number of CV Scores used in Average:  5\n"
     ]
    }
   ],
   "source": [
    "ss = ShuffleSplit(train_size=0.6, test_size=0.3, n_splits = 5)\n",
    "\n",
    "scores = cross_val_score(clf, X, y, cv = ss)\n",
    "print(\"Cross Validation Scores: \", scores)\n",
    "print(\"Average CV Score: \", scores.mean())\n",
    "print(\"Number of CV Scores used in Average: \", len(scores))"
   ]
  },
  {
   "cell_type": "markdown",
   "id": "c5cb1d80-b88e-491a-8e71-aa1d3fa87da1",
   "metadata": {},
   "source": [
    "<h1>AUC-ROC Curve</h1>"
   ]
  },
  {
   "cell_type": "markdown",
   "id": "0bcb1849-8856-4ee4-b45e-d14281b8fbe8",
   "metadata": {},
   "source": [
    "AUC is the area under the receiver operating characteristic (ROC) curve. The Reciever operating characteristic curve plots the true positive (TP) rate versus the false positive (FP) rate at different classification thresholds. The thresholds are different probability cutoffs that separate the two classes in binary classification. It uses probability to tell us how well a model separates the classes."
   ]
  },
  {
   "cell_type": "code",
   "execution_count": 164,
   "id": "48198e51-301f-451f-a246-207b6c836726",
   "metadata": {},
   "outputs": [
    {
     "data": {
      "text/plain": [
       "Text(0, 0.5, 'True Positive Rate')"
      ]
     },
     "execution_count": 164,
     "metadata": {},
     "output_type": "execute_result"
    },
    {
     "data": {
      "image/png": "[encoded data removed]",
      "text/plain": [
       "<Figure size 640x480 with 1 Axes>"
      ]
     },
     "metadata": {},
     "output_type": "display_data"
    }
   ],
   "source": [
    "n = 10000\n",
    "y = np.array([0] * n + [1] * n)\n",
    "#\n",
    "y_prob_1 = np.array(\n",
    "    np.random.uniform(.25, .5, n//2).tolist() +\n",
    "    np.random.uniform(.3, .7, n).tolist() +\n",
    "    np.random.uniform(.5, .75, n//2).tolist()\n",
    ")\n",
    "y_prob_2 = np.array(\n",
    "    np.random.uniform(0, .4, n//2).tolist() +\n",
    "    np.random.uniform(.3, .7, n).tolist() +\n",
    "    np.random.uniform(.6, 1, n//2).tolist()\n",
    ")\n",
    "\n",
    "fpr, tpr, thresholds = roc_curve(y, y_prob_1)\n",
    "plt.plot(fpr, tpr)\n",
    "plt.xlabel('False Positive Rate')\n",
    "plt.ylabel('True Positive Rate')\n",
    "\n",
    "fpr, tpr, thresholds = roc_curve(y, y_prob_2)\n",
    "plt.plot(fpr, tpr)\n",
    "plt.xlabel('False Positive Rate')\n",
    "plt.ylabel('True Positive Rate')"
   ]
  },
  {
   "cell_type": "markdown",
   "id": "95b6748f-99cc-4a06-b1f5-0864e23bcb94",
   "metadata": {},
   "source": [
    "<h1>K-nearest neighbors</h1>"
   ]
  },
  {
   "cell_type": "markdown",
   "id": "0201440c-9715-4d69-8f18-58c00d0c83c0",
   "metadata": {},
   "source": [
    "KNN - simple, supervised machine learning (ML) algorithm that can be used for classification or regression tasks - and is also frequently used in missing value imputation. It is based on the idea that the observations closest to a given data point are the most \"similar\" observations in a data set, and we can therefore classify unforeseen points based on the values of the closest existing points. By choosing K, the user can select the number of nearby observations to use in the algorithm.\n",
    "<br>Larger values of K are often more robust to outliers and produce more stable decision boundaries than very small values (K=3 would be better than K=1, which might produce undesirable results."
   ]
  },
  {
   "cell_type": "code",
   "execution_count": 168,
   "id": "43a1921b-9316-4c67-b9c6-c8c09157fdc7",
   "metadata": {},
   "outputs": [
    {
     "data": {
      "image/png": "[encoded data removed]",
      "text/plain": [
       "<Figure size 640x480 with 1 Axes>"
      ]
     },
     "metadata": {},
     "output_type": "display_data"
    }
   ],
   "source": [
    "x = [4, 5, 10, 4, 3, 11, 14 , 8, 10, 12]\n",
    "y = [21, 19, 24, 17, 16, 25, 24, 22, 21, 21]\n",
    "classes = [0, 0, 1, 0, 0, 1, 1, 0, 1, 1]\n",
    "\n",
    "data = list(zip(x, y))\n",
    "knn = KNeighborsClassifier(n_neighbors=1) #1 neighbor\n",
    "knn.fit(data, classes)\n",
    "\n",
    "new_x = 8\n",
    "new_y = 21\n",
    "new_point = [(new_x, new_y)]\n",
    "\n",
    "prediction = knn.predict(new_point)\n",
    "\n",
    "plt.scatter(x + [new_x], y + [new_y], c=classes + [prediction[0]])\n",
    "plt.text(x=new_x-1.7, y=new_y-0.7, s=f\"new point, class: {prediction[0]}\")\n",
    "plt.show()"
   ]
  },
  {
   "cell_type": "markdown",
   "id": "51348bd1-5075-4983-8cc6-b516e111447a",
   "metadata": {},
   "source": [
    "U CAN ADD TEXT OH F-"
   ]
  },
  {
   "cell_type": "code",
   "execution_count": 169,
   "id": "25ce67be-fdc1-4926-8088-2baea3b92cdc",
   "metadata": {},
   "outputs": [
    {
     "data": {
      "image/png": "[encoded data removed]",
      "text/plain": [
       "<Figure size 640x480 with 1 Axes>"
      ]
     },
     "metadata": {},
     "output_type": "display_data"
    }
   ],
   "source": [
    "knn = KNeighborsClassifier(n_neighbors=5) #now 5 neighbors\n",
    "\n",
    "knn.fit(data, classes)\n",
    "prediction = knn.predict(new_point)\n",
    "\n",
    "plt.scatter(x + [new_x], y + [new_y], c=classes + [prediction[0]])\n",
    "plt.text(x=new_x-1.7, y=new_y-0.7, s=f\"new point, class: {prediction[0]}\")\n",
    "plt.show()"
   ]
  }
 ],
 "metadata": {
  "kernelspec": {
   "display_name": "Python 3 (ipykernel)",
   "language": "python",
   "name": "python3"
  },
  "language_info": {
   "codemirror_mode": {
    "name": "ipython",
    "version": 3
   },
   "file_extension": ".py",
   "mimetype": "text/x-python",
   "name": "python",
   "nbconvert_exporter": "python",
   "pygments_lexer": "ipython3",
   "version": "3.10.11"
  }
 },
 "nbformat": 4,
 "nbformat_minor": 5
}
